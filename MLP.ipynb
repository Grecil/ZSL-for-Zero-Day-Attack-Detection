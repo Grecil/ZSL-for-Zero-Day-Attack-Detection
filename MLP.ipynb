{
  "cells": [
    {
      "cell_type": "code",
      "execution_count": null,
      "metadata": {
        "id": "Lbqk-PVLw1EW"
      },
      "outputs": [],
      "source": [
        "import numpy as np\n",
        "import pandas as pd"
      ]
    },
    {
      "cell_type": "code",
      "source": [
        "from google.colab import drive\n",
        "drive.mount('/content/drive')"
      ],
      "metadata": {
        "id": "qzRHUhT8xF45"
      },
      "execution_count": null,
      "outputs": []
    },
    {
      "cell_type": "code",
      "execution_count": null,
      "metadata": {
        "id": "xYXGUHd3w1EY"
      },
      "outputs": [],
      "source": [
        "pd.options.display.max_rows = 200"
      ]
    },
    {
      "cell_type": "code",
      "execution_count": null,
      "metadata": {
        "id": "Icq92pRvw1EZ"
      },
      "outputs": [],
      "source": [
        "df=pd.read_csv(\"/content/drive/MyDrive/Copy of CIC-IDS-2018(15).csv\")\n",
        "df"
      ]
    },
    {
      "cell_type": "code",
      "execution_count": null,
      "metadata": {
        "id": "k7g-eLN8w1Ea"
      },
      "outputs": [],
      "source": [
        "columns_to_drop = [\n",
        "  'Dst Port',\n",
        "  'Timestamp',\n",
        "  'Fwd PSH Flags',\n",
        "  'Bwd PSH Flags',\n",
        "  'Fwd URG Flags',\n",
        "  'Bwd URG Flags',\n",
        "  'Flow Byts/s',\n",
        "  'Flow Pkts/s']\n",
        "df.drop(columns=columns_to_drop, inplace=True)\n",
        "df.replace([np.inf, -np.inf], np.nan, inplace=True)\n",
        "df.dropna(inplace=True)\n",
        "df.drop_duplicates(inplace=True)\n",
        "df=df[df[\"Label\"]!=\"Label\"]\n",
        "attack_mapping = {\n",
        "  'Benign': 0,\n",
        "  'DDOS attack-HOIC': 1,\n",
        "  'DoS attacks-Hulk': 2,\n",
        "  'Bot': 3,\n",
        "  'FTP-BruteForce': 4,\n",
        "  'SSH-Bruteforce': 5,\n",
        "  'Infilteration': 6,\n",
        "  'DoS attacks-GoldenEye': 7,\n",
        "  'DoS attacks-Slowloris': 8,\n",
        "  'DDOS attack-LOIC-UDP': 9,\n",
        "  'Brute Force -Web':10,\n",
        "  'Brute Force -XSS':11,\n",
        "  'SQL Injection':12,\n",
        "}\n",
        "df.loc[:, 'Label'] = df[\"Label\"].map(attack_mapping)\n",
        "df"
      ]
    },
    {
      "cell_type": "code",
      "source": [
        "df[\"Label\"].value_counts()"
      ],
      "metadata": {
        "id": "rgeD2MIu8IMN"
      },
      "execution_count": null,
      "outputs": []
    },
    {
      "cell_type": "code",
      "execution_count": null,
      "metadata": {
        "id": "dphwc55Fw1Eb"
      },
      "outputs": [],
      "source": [
        "from sklearn.preprocessing import MinMaxScaler\n",
        "scaler=MinMaxScaler()\n",
        "df_scaled = df.copy()\n",
        "feature_cols = df.drop('Label', axis=1).columns\n",
        "df_scaled[feature_cols] = scaler.fit_transform(df[feature_cols])\n",
        "df_scaled=df_scaled.groupby(\"Label\").apply(lambda a:a)\n",
        "df_scaled"
      ]
    },
    {
      "cell_type": "code",
      "execution_count": null,
      "metadata": {
        "id": "vdmLg4Qhw1Ec"
      },
      "outputs": [],
      "source": [
        "def metrics(output,y_test,y_test_types,att_type):\n",
        "    tp=tn=fp=fn=tpz=fnz=0\n",
        "    for i in range(len(output)):\n",
        "        if output[i]<0.5:\n",
        "            if y_test[i]==0:\n",
        "                tn+=1\n",
        "            else:\n",
        "                fn+=1\n",
        "        else:\n",
        "            if y_test[i]==1:\n",
        "                tp+=1\n",
        "            else:\n",
        "                fp+=1\n",
        "        if y_test_types[i]==att_type:\n",
        "            if output[i]>=0.5:\n",
        "                tpz+=1\n",
        "            else:\n",
        "                fnz+=1\n",
        "\n",
        "    accuracy=((tp+tn)*100)/(tp+tn+fp+fn)\n",
        "    dr=(tp*100)/(tp+fn)\n",
        "    far=(fp*100)/(fp+tn)\n",
        "    zdr=(tpz*100)/(tpz+fnz)\n",
        "    return [accuracy,dr,far,zdr]"
      ]
    },
    {
      "cell_type": "code",
      "execution_count": null,
      "metadata": {
        "id": "NnjJ3R8Aw1Ec"
      },
      "outputs": [],
      "source": [
        "import tensorflow as tf\n",
        "from tensorflow.keras import layers # type: ignore\n",
        "from tensorflow.keras.callbacks import EarlyStopping # type: ignore\n",
        "from sklearn.model_selection import train_test_split"
      ]
    },
    {
      "cell_type": "markdown",
      "metadata": {
        "id": "eEEOugy4w1Ed"
      },
      "source": [
        "Simulating Zero Day Attacks"
      ]
    },
    {
      "cell_type": "code",
      "execution_count": null,
      "metadata": {
        "id": "8bGMTnlBw1Ee"
      },
      "outputs": [],
      "source": [
        "metricarr=[]\n",
        "\n",
        "for att_type in range(1,13):\n",
        "\n",
        "    # Organizing data for zero day attack\n",
        "    df_train, df_test = train_test_split(df_scaled,train_size=0.8,random_state=52)\n",
        "    zday=df_train[df_train[\"Label\"]==att_type]\n",
        "    df_test = pd.concat([df_test, zday]).sample(frac=1).reset_index(drop=True)\n",
        "    zday_train=df_train[df_train[\"Label\"]!=att_type].sample(frac=1).reset_index(drop=True)\n",
        "    X_train=zday_train.drop([\"Label\"],axis=1)\n",
        "    y_train=zday_train[\"Label\"].apply(lambda a:1 if a>0 else 0)\n",
        "    X_test=df_test.drop([\"Label\"],axis=1)\n",
        "    y_test_types=df_test[\"Label\"]\n",
        "    y_test=y_test_types.apply(lambda a:1 if a>0 else 0)\n",
        "\n",
        "    #Declaring the model\n",
        "    tf.keras.backend.clear_session()\n",
        "    model = tf.keras.Sequential([\n",
        "        layers.Dense(100, activation='relu', input_shape=(71,), kernel_regularizer=tf.keras.regularizers.l2(0.0001)),\n",
        "        layers.Dense(100, activation='relu', kernel_regularizer=tf.keras.regularizers.l2(0.0001)),\n",
        "        layers.Dense(1, activation='sigmoid')\n",
        "    ])\n",
        "    early_stopping = EarlyStopping(monitor='loss', patience=3, verbose=1, restore_best_weights=True)\n",
        "    model.compile(optimizer=tf.keras.optimizers.Adam(learning_rate=0.001),\n",
        "                loss='binary_crossentropy',\n",
        "                metrics=['accuracy'])\n",
        "\n",
        "    #Training the model\n",
        "    model.fit(X_train, y_train, epochs=50, callbacks=[early_stopping],batch_size=64)\n",
        "\n",
        "    #Getting the output\n",
        "    output=model.predict(X_test)\n",
        "\n",
        "    #Storing metrics in metric array\n",
        "    metricarr.append(metrics(output,y_test,y_test_types,att_type))\n"
      ]
    },
    {
      "cell_type": "code",
      "source": [
        "print(*metricarr,sep=\"\\n\")"
      ],
      "metadata": {
        "id": "0YERoEEj1kw-"
      },
      "execution_count": null,
      "outputs": []
    },
    {
      "cell_type": "code",
      "source": [
        "att_types=[  'Benign',\n",
        "  'DDOS attack-HOIC',\n",
        "  'DoS attacks-Hulk',\n",
        "  'Bot',\n",
        "  'FTP-BruteForce',\n",
        "  'SSH-Bruteforce',\n",
        "  'Infilteration',\n",
        "  'DoS attacks-GoldenEye',\n",
        "  'DoS attacks-Slowloris',\n",
        "  'DDOS attack-LOIC-UDP',\n",
        "  'Brute Force -Web',\n",
        "  'Brute Force -XSS',\n",
        "  'SQL Injection']"
      ],
      "metadata": {
        "id": "LILAraNuCjm3"
      },
      "execution_count": null,
      "outputs": []
    },
    {
      "cell_type": "code",
      "source": [
        "import seaborn as sns\n",
        "import matplotlib.pyplot as plt\n",
        "\n",
        "mdf = pd.DataFrame(metricarr, columns=['Accuracy', 'DR', 'FAR', 'ZDR'])\n",
        "plt.figure(figsize=(10, 6))\n",
        "sns.barplot(data=mdf, x=mdf.index+1, y='DR', label='DR')\n",
        "plt.xlabel('Attack Types')\n",
        "plt.ylabel('Detection Rate')\n",
        "plt.title('Detection Rates')\n",
        "plt.legend()\n",
        "plt.show()"
      ],
      "metadata": {
        "id": "oiYwdltOAo8H"
      },
      "execution_count": null,
      "outputs": []
    },
    {
      "cell_type": "code",
      "source": [
        "plt.figure(figsize=(10, 6))\n",
        "sns.barplot(data=mdf, x=mdf.index+1, y='ZDR', label='ZDR')\n",
        "plt.xlabel('Attack Types')\n",
        "plt.ylabel('Zero Day Detection Rate')\n",
        "plt.title('Zero Day Detection Rates')\n",
        "plt.legend()\n",
        "plt.show()"
      ],
      "metadata": {
        "id": "KW2n3bdSFyeM"
      },
      "execution_count": null,
      "outputs": []
    },
    {
      "cell_type": "markdown",
      "metadata": {
        "id": "efAR-lWjw1Ef"
      },
      "source": [
        "Wasserstein Distance Calculation"
      ]
    },
    {
      "cell_type": "code",
      "execution_count": null,
      "metadata": {
        "id": "wFl_IexUw1Ef"
      },
      "outputs": [],
      "source": [
        "from scipy.stats import wasserstein_distance as wd\n",
        "from scipy.stats import ks_2samp as ks"
      ]
    },
    {
      "cell_type": "code",
      "execution_count": null,
      "metadata": {
        "id": "JaBwvSMEw1Ef"
      },
      "outputs": [],
      "source": [
        "wdarr=np.array([])\n",
        "ksarr=np.array([])\n",
        "for att_type in range(1,13):\n",
        "    X_nz = (df_scaled[~df_scaled[\"Label\"].isin([0,att_type])])\n",
        "    X_z = (df_scaled[df_scaled[\"Label\"] == att_type])\n",
        "    arr1=np.array([])\n",
        "    arr2=np.array([])\n",
        "    for i in range(71):\n",
        "        arr1=np.append(arr1,wd(X_nz.iloc[:,i],X_z.iloc[:,i]))\n",
        "        arr2=np.append(arr2,ks(X_nz.iloc[:,i],X_z.iloc[:,i]))\n",
        "    wdarr=np.append(wdarr,sum(arr1)/71)\n",
        "    ksarr=np.append(ksarr,sum(arr2)/71)"
      ]
    },
    {
      "cell_type": "code",
      "source": [
        "import matplotlib.pyplot as plt\n",
        "import seaborn as sns"
      ],
      "metadata": {
        "id": "UjT_a0h1Zfp6"
      },
      "execution_count": null,
      "outputs": []
    },
    {
      "cell_type": "code",
      "source": [
        "wdf = pd.DataFrame(wdarr, columns=[\"WD\"])\n",
        "plt.figure(figsize=(10, 6))\n",
        "sns.barplot(data=wdf, x=wdf.index+1, y='WD', label='Wasserstein Distance')\n",
        "plt.xlabel('Attack Types')\n",
        "plt.ylabel('Wasserstein Distance')\n",
        "plt.title('Wasserstein Distances')\n",
        "plt.legend()\n",
        "plt.show()"
      ],
      "metadata": {
        "id": "u2vG7YlDGloV"
      },
      "execution_count": null,
      "outputs": []
    },
    {
      "cell_type": "code",
      "source": [
        "ksdf = pd.DataFrame(ksarr, columns=[\"KS\"])\n",
        "plt.figure(figsize=(10, 6))\n",
        "sns.barplot(data=ksdf, x=ksdf.index+1, y='KS', label='Kolmogorov-Smirnov')\n",
        "plt.xlabel('Attack Types')\n",
        "plt.ylabel('Kolmogorov-Smirnov Test')\n",
        "plt.title('Kolmogorov-Smirnov Test')\n",
        "plt.legend()\n",
        "plt.show()"
      ],
      "metadata": {
        "id": "ucQFjRKncGkM"
      },
      "execution_count": null,
      "outputs": []
    }
  ],
  "metadata": {
    "kernelspec": {
      "display_name": "Python 3",
      "name": "python3"
    },
    "language_info": {
      "codemirror_mode": {
        "name": "ipython",
        "version": 3
      },
      "file_extension": ".py",
      "mimetype": "text/x-python",
      "name": "python",
      "nbconvert_exporter": "python",
      "pygments_lexer": "ipython3",
      "version": "3.10.7"
    },
    "colab": {
      "provenance": []
    }
  },
  "nbformat": 4,
  "nbformat_minor": 0
}